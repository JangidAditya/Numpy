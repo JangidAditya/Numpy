{
 "cells": [
  {
   "cell_type": "code",
   "execution_count": 1,
   "id": "208b45e4",
   "metadata": {},
   "outputs": [],
   "source": [
    "import numpy as np"
   ]
  },
  {
   "cell_type": "code",
   "execution_count": 2,
   "id": "cff53cd1",
   "metadata": {},
   "outputs": [],
   "source": [
    "# nd - number of dymension"
   ]
  },
  {
   "cell_type": "code",
   "execution_count": 3,
   "id": "450e9152",
   "metadata": {},
   "outputs": [
    {
     "data": {
      "text/plain": [
       "array([1, 2, 3, 4])"
      ]
     },
     "execution_count": 3,
     "metadata": {},
     "output_type": "execute_result"
    }
   ],
   "source": [
    "np.array([1,2,3,4])"
   ]
  },
  {
   "cell_type": "code",
   "execution_count": 4,
   "id": "bbec2bfa",
   "metadata": {},
   "outputs": [
    {
     "data": {
      "text/plain": [
       "numpy.ndarray"
      ]
     },
     "execution_count": 4,
     "metadata": {},
     "output_type": "execute_result"
    }
   ],
   "source": [
    "type(np.array([1,2,3,4]))"
   ]
  },
  {
   "cell_type": "code",
   "execution_count": 5,
   "id": "f8c37f2b",
   "metadata": {},
   "outputs": [
    {
     "data": {
      "text/plain": [
       "array(['1', '2', '3', '4', 'mahi', 'aditya', '(4+5j)'], dtype='<U64')"
      ]
     },
     "execution_count": 5,
     "metadata": {},
     "output_type": "execute_result"
    }
   ],
   "source": [
    "np.array([1,2,3,4,\"mahi\",\"aditya\",4+5j])   # *** 4+5k is not working why "
   ]
  },
  {
   "cell_type": "code",
   "execution_count": 6,
   "id": "b3131a89",
   "metadata": {},
   "outputs": [
    {
     "data": {
      "text/plain": [
       "array([[3, 4],\n",
       "       [6, 7]])"
      ]
     },
     "execution_count": 6,
     "metadata": {},
     "output_type": "execute_result"
    }
   ],
   "source": [
    "np.array([[3,4],[6,7]])"
   ]
  },
  {
   "cell_type": "code",
   "execution_count": 7,
   "id": "9c88ee53",
   "metadata": {},
   "outputs": [
    {
     "data": {
      "text/plain": [
       "array([[3, 4],\n",
       "       [6, 7],\n",
       "       [1, 2]])"
      ]
     },
     "execution_count": 7,
     "metadata": {},
     "output_type": "execute_result"
    }
   ],
   "source": [
    "np.array([[3,4],[6,7],[1,2]])"
   ]
  },
  {
   "cell_type": "code",
   "execution_count": 8,
   "id": "44a5571d",
   "metadata": {},
   "outputs": [],
   "source": [
    "# np.array([[3,4],[6,7],[1,2,3]])"
   ]
  },
  {
   "cell_type": "code",
   "execution_count": 9,
   "id": "86ef0df7",
   "metadata": {},
   "outputs": [
    {
     "data": {
      "text/plain": [
       "array([[[3, 4],\n",
       "        [6, 7]],\n",
       "\n",
       "       [[1, 2],\n",
       "        [4, 5]]])"
      ]
     },
     "execution_count": 9,
     "metadata": {},
     "output_type": "execute_result"
    }
   ],
   "source": [
    "np.array([[[3,4],[6,7]],[[1,2],[4,5]]])"
   ]
  },
  {
   "cell_type": "code",
   "execution_count": 10,
   "id": "d82feddb",
   "metadata": {},
   "outputs": [
    {
     "data": {
      "text/plain": [
       "array([[[1, 2, 3]]])"
      ]
     },
     "execution_count": 10,
     "metadata": {},
     "output_type": "execute_result"
    }
   ],
   "source": [
    "np.array([1,2,3],ndmin=3)"
   ]
  },
  {
   "cell_type": "code",
   "execution_count": 11,
   "id": "f35273e9",
   "metadata": {},
   "outputs": [
    {
     "data": {
      "text/plain": [
       "array([1.+0.j, 2.+0.j, 3.+0.j])"
      ]
     },
     "execution_count": 11,
     "metadata": {},
     "output_type": "execute_result"
    }
   ],
   "source": [
    "np.array([1,2,3],dtype=complex)"
   ]
  },
  {
   "cell_type": "code",
   "execution_count": 12,
   "id": "c7a4820c",
   "metadata": {},
   "outputs": [
    {
     "data": {
      "text/plain": [
       "array([[4, 5],\n",
       "       [6, 4]])"
      ]
     },
     "execution_count": 12,
     "metadata": {},
     "output_type": "execute_result"
    }
   ],
   "source": [
    "np.array([(4,5),(6,4)])"
   ]
  },
  {
   "cell_type": "code",
   "execution_count": 13,
   "id": "5913534f",
   "metadata": {},
   "outputs": [
    {
     "data": {
      "text/plain": [
       "array([[4, 5],\n",
       "       [6, 4]])"
      ]
     },
     "execution_count": 13,
     "metadata": {},
     "output_type": "execute_result"
    }
   ],
   "source": [
    "np.array([(4,5),[6,4]])"
   ]
  },
  {
   "cell_type": "code",
   "execution_count": 14,
   "id": "a9b64f6e",
   "metadata": {},
   "outputs": [],
   "source": [
    "arr = np.array([(1,2),(3,4)],dtype=[(\"a\",'<f2'),(\"b\",'<f8')]) # f = float f2 = 16, f8 =64\n",
    "arr = np.array([(1,2),(3,4)],dtype=[(\"a\",'<i2'),(\"b\",'<i8')]) # i = int  i2 = 16 , i8 = 64\n",
    "# for menegment of memory \n",
    "# i2    16\n",
    "# i4    32 bydefault\n",
    "# i8    64"
   ]
  },
  {
   "cell_type": "code",
   "execution_count": 15,
   "id": "4b5e6c07",
   "metadata": {},
   "outputs": [
    {
     "data": {
      "text/plain": [
       "numpy.int64"
      ]
     },
     "execution_count": 15,
     "metadata": {},
     "output_type": "execute_result"
    }
   ],
   "source": [
    "type(arr[0][0])\n",
    "type(arr[0][1])"
   ]
  },
  {
   "cell_type": "code",
   "execution_count": 16,
   "id": "919af55c",
   "metadata": {},
   "outputs": [
    {
     "data": {
      "text/plain": [
       "array([[3, 4],\n",
       "       [6, 7]])"
      ]
     },
     "execution_count": 16,
     "metadata": {},
     "output_type": "execute_result"
    }
   ],
   "source": [
    "arr = np.array([[3,4],[6,7]])\n",
    "arr"
   ]
  },
  {
   "cell_type": "code",
   "execution_count": 17,
   "id": "2c81d6c6",
   "metadata": {},
   "outputs": [],
   "source": [
    "# arr[0]\n",
    "# arr[0][1]"
   ]
  },
  {
   "cell_type": "code",
   "execution_count": 18,
   "id": "acce9c3f",
   "metadata": {},
   "outputs": [
    {
     "data": {
      "text/plain": [
       "matrix([[3, 4],\n",
       "        [6, 7]])"
      ]
     },
     "execution_count": 18,
     "metadata": {},
     "output_type": "execute_result"
    }
   ],
   "source": [
    "np.mat(arr)"
   ]
  },
  {
   "cell_type": "code",
   "execution_count": 19,
   "id": "3ffa8fa9",
   "metadata": {},
   "outputs": [
    {
     "data": {
      "text/plain": [
       "array([3, 4, 5, 6, 7])"
      ]
     },
     "execution_count": 19,
     "metadata": {},
     "output_type": "execute_result"
    }
   ],
   "source": [
    "l = [3,4,5,6,7]\n",
    "np.array(l)"
   ]
  },
  {
   "cell_type": "code",
   "execution_count": 20,
   "id": "1da16bdd",
   "metadata": {},
   "outputs": [
    {
     "data": {
      "text/plain": [
       "array([3, 4, 5, 6, 7])"
      ]
     },
     "execution_count": 20,
     "metadata": {},
     "output_type": "execute_result"
    }
   ],
   "source": [
    "np.asarray(l)"
   ]
  },
  {
   "cell_type": "code",
   "execution_count": 21,
   "id": "346adb81",
   "metadata": {},
   "outputs": [
    {
     "data": {
      "text/plain": [
       "array([3, 4, 5, 6, 7])"
      ]
     },
     "execution_count": 21,
     "metadata": {},
     "output_type": "execute_result"
    }
   ],
   "source": [
    "np.asanyarray(l)"
   ]
  },
  {
   "cell_type": "code",
   "execution_count": 22,
   "id": "75179895",
   "metadata": {},
   "outputs": [
    {
     "data": {
      "text/plain": [
       "matrix([[3, 4],\n",
       "        [6, 7]])"
      ]
     },
     "execution_count": 22,
     "metadata": {},
     "output_type": "execute_result"
    }
   ],
   "source": [
    "arr = np.matrix([[3,4],[6,7]])\n",
    "np.asanyarray(arr)  #The metrix is not conveted into array.\n",
    "# np.array(arr)\n",
    "# np.asarray(arr)   # The np.array,  np.asarray is conver matrix into array but asanyarray is no converted into array.\n",
    "# matrix is the sunset of array .and the list is not subset of list"
   ]
  },
  {
   "cell_type": "code",
   "execution_count": 23,
   "id": "caf66884",
   "metadata": {},
   "outputs": [
    {
     "data": {
      "text/plain": [
       "False"
      ]
     },
     "execution_count": 23,
     "metadata": {},
     "output_type": "execute_result"
    }
   ],
   "source": [
    "issubclass(np.matrix,np.ndarray)  #The matrix is subset of array \n",
    "issubclass(np.ndarray,np.matrix) # the array is not subset of matrix "
   ]
  },
  {
   "cell_type": "code",
   "execution_count": 24,
   "id": "26ab7304",
   "metadata": {},
   "outputs": [
    {
     "data": {
      "text/plain": [
       "array([[3, 4],\n",
       "       [6, 7]])"
      ]
     },
     "execution_count": 24,
     "metadata": {},
     "output_type": "execute_result"
    }
   ],
   "source": [
    "arr = np.array([[3,4],[6,7]])\n",
    "a = arr\n",
    "a\n",
    "# mutteble\n",
    "# shollo copy\n",
    "b = np.copy(arr)\n",
    "b\n",
    "# inmutteble\n",
    "# create the new place in a memory and it's called deep copy or  "
   ]
  },
  {
   "cell_type": "code",
   "execution_count": 25,
   "id": "7c5d0f81",
   "metadata": {},
   "outputs": [
    {
     "data": {
      "text/plain": [
       "array([[67,  4],\n",
       "       [ 6,  7]])"
      ]
     },
     "execution_count": 25,
     "metadata": {},
     "output_type": "execute_result"
    }
   ],
   "source": [
    "arr[0][0] = 67\n",
    "arr"
   ]
  },
  {
   "cell_type": "code",
   "execution_count": 26,
   "id": "752bc020",
   "metadata": {},
   "outputs": [
    {
     "data": {
      "text/plain": [
       "array([[67,  4],\n",
       "       [ 6,  7]])"
      ]
     },
     "execution_count": 26,
     "metadata": {},
     "output_type": "execute_result"
    }
   ],
   "source": [
    "a # The a is effected"
   ]
  },
  {
   "cell_type": "code",
   "execution_count": 27,
   "id": "ff8a7fd6",
   "metadata": {},
   "outputs": [
    {
     "data": {
      "text/plain": [
       "array([[3, 4],\n",
       "       [6, 7]])"
      ]
     },
     "execution_count": 27,
     "metadata": {},
     "output_type": "execute_result"
    }
   ],
   "source": [
    "b # The b is not effected"
   ]
  },
  {
   "cell_type": "code",
   "execution_count": 28,
   "id": "82660250",
   "metadata": {},
   "outputs": [
    {
     "name": "stdout",
     "output_type": "stream",
     "text": [
      "[67  4]\n",
      "[6 7]\n"
     ]
    }
   ],
   "source": [
    "for i in arr:\n",
    "    print(i)\n"
   ]
  },
  {
   "cell_type": "code",
   "execution_count": 29,
   "id": "a5ce2217",
   "metadata": {},
   "outputs": [
    {
     "data": {
      "text/plain": [
       "array([[ True, False, False, False],\n",
       "       [False,  True, False, False],\n",
       "       [False, False,  True, False],\n",
       "       [False, False, False,  True]])"
      ]
     },
     "execution_count": 29,
     "metadata": {},
     "output_type": "execute_result"
    }
   ],
   "source": [
    "np.fromfunction(lambda i ,j   :i==j ,(4,4))   # row and clm row(0,1,2,3) clm (0,1,2,3)\n"
   ]
  },
  {
   "cell_type": "code",
   "execution_count": 30,
   "id": "d15498e3",
   "metadata": {},
   "outputs": [
    {
     "data": {
      "text/plain": [
       "numpy.ndarray"
      ]
     },
     "execution_count": 30,
     "metadata": {},
     "output_type": "execute_result"
    }
   ],
   "source": [
    "type(np.fromfunction(lambda i ,j   :i==j ,(4,4)))"
   ]
  },
  {
   "cell_type": "code",
   "execution_count": 31,
   "id": "bc0009e4",
   "metadata": {},
   "outputs": [
    {
     "data": {
      "text/plain": [
       "array([[0., 0., 0.],\n",
       "       [0., 1., 2.],\n",
       "       [0., 2., 4.]])"
      ]
     },
     "execution_count": 31,
     "metadata": {},
     "output_type": "execute_result"
    }
   ],
   "source": [
    "np.fromfunction(lambda i ,j   :i*j ,(3,3))"
   ]
  },
  {
   "cell_type": "code",
   "execution_count": null,
   "id": "75b1a534",
   "metadata": {},
   "outputs": [],
   "source": []
  },
  {
   "cell_type": "code",
   "execution_count": 32,
   "id": "9e6fc377",
   "metadata": {},
   "outputs": [
    {
     "data": {
      "text/plain": [
       "<generator object <genexpr> at 0x0000019FB6467E40>"
      ]
     },
     "execution_count": 32,
     "metadata": {},
     "output_type": "execute_result"
    }
   ],
   "source": [
    "(i* i for i in range(5))"
   ]
  },
  {
   "cell_type": "code",
   "execution_count": 33,
   "id": "c585dad3",
   "metadata": {},
   "outputs": [
    {
     "data": {
      "text/plain": [
       "[0, 1, 4, 9, 16]"
      ]
     },
     "execution_count": 33,
     "metadata": {},
     "output_type": "execute_result"
    }
   ],
   "source": [
    "[i* i for i in range(5)]"
   ]
  },
  {
   "cell_type": "code",
   "execution_count": 34,
   "id": "a66f2aaf",
   "metadata": {},
   "outputs": [],
   "source": [
    "def test(x):\n",
    "    yield x"
   ]
  },
  {
   "cell_type": "code",
   "execution_count": 35,
   "id": "aa3b77b6",
   "metadata": {},
   "outputs": [
    {
     "data": {
      "text/plain": [
       "<generator object test at 0x0000019FB648D270>"
      ]
     },
     "execution_count": 35,
     "metadata": {},
     "output_type": "execute_result"
    }
   ],
   "source": [
    "test(5)"
   ]
  },
  {
   "cell_type": "code",
   "execution_count": null,
   "id": "928dbeb8",
   "metadata": {},
   "outputs": [],
   "source": []
  },
  {
   "cell_type": "code",
   "execution_count": 36,
   "id": "60eed1d3",
   "metadata": {},
   "outputs": [
    {
     "name": "stdout",
     "output_type": "stream",
     "text": [
      "[0, 1, 4, 9, 16]\n"
     ]
    }
   ],
   "source": [
    "gen =[i * i for i in range(5)]\n",
    "print(gen)"
   ]
  },
  {
   "cell_type": "code",
   "execution_count": 37,
   "id": "2c006b77",
   "metadata": {},
   "outputs": [
    {
     "data": {
      "text/plain": [
       "array([0, 1, 2, 3, 4])"
      ]
     },
     "execution_count": 37,
     "metadata": {},
     "output_type": "execute_result"
    }
   ],
   "source": [
    "np.fromiter(gen,dtype= int)\n",
    "np.fromiter(range(5),dtype= int)"
   ]
  },
  {
   "cell_type": "code",
   "execution_count": 38,
   "id": "dda140fd",
   "metadata": {},
   "outputs": [
    {
     "name": "stdout",
     "output_type": "stream",
     "text": [
      "0\n",
      "1\n",
      "4\n",
      "9\n",
      "16\n"
     ]
    }
   ],
   "source": [
    "gen\n",
    "for i in  gen:\n",
    "    print(i)"
   ]
  },
  {
   "cell_type": "code",
   "execution_count": 39,
   "id": "0084ddbb",
   "metadata": {},
   "outputs": [
    {
     "data": {
      "text/plain": [
       "array([1, 2, 3, 4, 5])"
      ]
     },
     "execution_count": 39,
     "metadata": {},
     "output_type": "execute_result"
    }
   ],
   "source": [
    "np.fromstring(\"1,2,3,4,5\" ,sep= \",\", dtype=int)"
   ]
  },
  {
   "cell_type": "code",
   "execution_count": 40,
   "id": "8ac88cfb",
   "metadata": {},
   "outputs": [
    {
     "data": {
      "text/plain": [
       "array([[1, 2, 3, 4],\n",
       "       [4, 5, 6, 7],\n",
       "       [8, 9, 5, 6]])"
      ]
     },
     "execution_count": 40,
     "metadata": {},
     "output_type": "execute_result"
    }
   ],
   "source": [
    "arr = np.array([[1,2,3,4],[4,5,6,7],[8,9,5,6]])\n",
    "arr"
   ]
  },
  {
   "cell_type": "code",
   "execution_count": 41,
   "id": "12d66585",
   "metadata": {},
   "outputs": [
    {
     "data": {
      "text/plain": [
       "numpy.ndarray"
      ]
     },
     "execution_count": 41,
     "metadata": {},
     "output_type": "execute_result"
    }
   ],
   "source": [
    "type(arr)"
   ]
  },
  {
   "cell_type": "code",
   "execution_count": 42,
   "id": "69d65dce",
   "metadata": {},
   "outputs": [
    {
     "data": {
      "text/plain": [
       "2"
      ]
     },
     "execution_count": 42,
     "metadata": {},
     "output_type": "execute_result"
    }
   ],
   "source": [
    "arr.ndim\n",
    "# give the dimenstion of array"
   ]
  },
  {
   "cell_type": "code",
   "execution_count": 43,
   "id": "f01f381c",
   "metadata": {},
   "outputs": [
    {
     "data": {
      "text/plain": [
       "12"
      ]
     },
     "execution_count": 43,
     "metadata": {},
     "output_type": "execute_result"
    }
   ],
   "source": [
    "arr.size\n",
    "# give the totol eliment of array"
   ]
  },
  {
   "cell_type": "code",
   "execution_count": 44,
   "id": "fd2869c2",
   "metadata": {},
   "outputs": [
    {
     "data": {
      "text/plain": [
       "(3, 4)"
      ]
     },
     "execution_count": 44,
     "metadata": {},
     "output_type": "execute_result"
    }
   ],
   "source": [
    "arr.shape"
   ]
  },
  {
   "cell_type": "code",
   "execution_count": 45,
   "id": "2a43d293",
   "metadata": {},
   "outputs": [
    {
     "data": {
      "text/plain": [
       "dtype('int32')"
      ]
     },
     "execution_count": 45,
     "metadata": {},
     "output_type": "execute_result"
    }
   ],
   "source": [
    "arr.dtype\n",
    "\n"
   ]
  },
  {
   "cell_type": "code",
   "execution_count": 46,
   "id": "d63f07eb",
   "metadata": {},
   "outputs": [
    {
     "data": {
      "text/plain": [
       "array([[[12, 13, 14, 15],\n",
       "        [16, 17, 18, 19]],\n",
       "\n",
       "       [[20, 21, 22, 23],\n",
       "        [24, 25, 26, 27]]])"
      ]
     },
     "execution_count": 46,
     "metadata": {},
     "output_type": "execute_result"
    }
   ],
   "source": [
    "arr2 = np.array([[[12,13,14,15],[16,17,18,19]],[[20,21,22,23],[24,25,26,27]]])\n",
    "arr2"
   ]
  },
  {
   "cell_type": "code",
   "execution_count": 47,
   "id": "1dadc6dd",
   "metadata": {},
   "outputs": [
    {
     "data": {
      "text/plain": [
       "(2, 2, 4)"
      ]
     },
     "execution_count": 47,
     "metadata": {},
     "output_type": "execute_result"
    }
   ],
   "source": [
    "arr2.shape\n"
   ]
  },
  {
   "cell_type": "code",
   "execution_count": 48,
   "id": "0c2d0d49",
   "metadata": {},
   "outputs": [
    {
     "data": {
      "text/plain": [
       "16"
      ]
     },
     "execution_count": 48,
     "metadata": {},
     "output_type": "execute_result"
    }
   ],
   "source": [
    "arr2.size"
   ]
  },
  {
   "cell_type": "code",
   "execution_count": 49,
   "id": "21a5e6a2",
   "metadata": {},
   "outputs": [
    {
     "data": {
      "text/plain": [
       "3"
      ]
     },
     "execution_count": 49,
     "metadata": {},
     "output_type": "execute_result"
    }
   ],
   "source": [
    "arr2.ndim"
   ]
  },
  {
   "cell_type": "code",
   "execution_count": 50,
   "id": "47b927dd",
   "metadata": {},
   "outputs": [
    {
     "data": {
      "text/plain": [
       "[0, 1, 2, 3, 4]"
      ]
     },
     "execution_count": 50,
     "metadata": {},
     "output_type": "execute_result"
    }
   ],
   "source": [
    "list(range(5))\n",
    "# list(range(5.5)) not work"
   ]
  },
  {
   "cell_type": "code",
   "execution_count": 51,
   "id": "b8fde18e",
   "metadata": {},
   "outputs": [
    {
     "data": {
      "text/plain": [
       "array([0, 1, 2, 3, 4, 5])"
      ]
     },
     "execution_count": 51,
     "metadata": {},
     "output_type": "execute_result"
    }
   ],
   "source": [
    "np.arange(6)"
   ]
  },
  {
   "cell_type": "code",
   "execution_count": 52,
   "id": "906049f8",
   "metadata": {},
   "outputs": [
    {
     "data": {
      "text/plain": [
       "array([6.6, 7.1, 7.6, 8.1, 8.6])"
      ]
     },
     "execution_count": 52,
     "metadata": {},
     "output_type": "execute_result"
    }
   ],
   "source": [
    "np.arange(6.6,9,.5) # (star,stop,step) (step:(5),(3.3),(.5),(-.3))"
   ]
  },
  {
   "cell_type": "code",
   "execution_count": 53,
   "id": "1fac3fa8",
   "metadata": {},
   "outputs": [
    {
     "name": "stdout",
     "output_type": "stream",
     "text": [
      "[1.1 2.1 3.1 4.1 5.1 6.1]\n",
      "[1 2 3 4 5 6 7 8]\n"
     ]
    }
   ],
   "source": [
    "print(np.arange(1.1,6.6))\n",
    "print(np.arange(1,9))"
   ]
  },
  {
   "cell_type": "code",
   "execution_count": 54,
   "id": "89fec961",
   "metadata": {},
   "outputs": [
    {
     "name": "stdout",
     "output_type": "stream",
     "text": [
      "[ 1.  2.  3.  4.  5.  6.  7.  8.  9. 10.]\n"
     ]
    }
   ],
   "source": [
    "# same as range and arange but neture by different \n",
    "# linspace (star,stop,elements(divied by equal))\n",
    "linspace_1 = np.linspace(1,10,10)\n",
    "print(linspace_1)\n",
    "# linspace_2 = np.linspace(1,10)  # bydefult 50 data set create\n",
    "# print(linspace_2)"
   ]
  },
  {
   "cell_type": "code",
   "execution_count": 55,
   "id": "b825873b",
   "metadata": {},
   "outputs": [
    {
     "name": "stdout",
     "output_type": "stream",
     "text": [
      "[0. 0. 0. 0. 0.]\n"
     ]
    }
   ],
   "source": [
    "zeros_1 = np.zeros((5))\n",
    "print(zeros_1)"
   ]
  },
  {
   "cell_type": "code",
   "execution_count": 56,
   "id": "7d6b07ea",
   "metadata": {},
   "outputs": [
    {
     "name": "stdout",
     "output_type": "stream",
     "text": [
      "[[[[0. 0. 0.]\n",
      "   [0. 0. 0.]]\n",
      "\n",
      "  [[0. 0. 0.]\n",
      "   [0. 0. 0.]]]]\n"
     ]
    }
   ],
   "source": [
    "zeros_1 = np.zeros((1,2,2,4)) #(Dymenstion,data,rows,columns)  <-----working\n",
    "zeros_2 = np.zeros((1,2,2,3))\n",
    "print(zeros_2)"
   ]
  },
  {
   "cell_type": "code",
   "execution_count": 57,
   "id": "da76b4dd",
   "metadata": {},
   "outputs": [],
   "source": [
    "# ones_1 = np.ones((2))\n",
    "# print(ones_1)\n",
    "# print()\n",
    "\n",
    "# ones_2 = np.ones((4,3))\n",
    "# print(ones_2)\n",
    "# print()\n",
    "\n",
    "# ones_3 = np.ones((4,2,2))\n",
    "# print(ones_3)\n",
    "# print()\n",
    "\n",
    "# ones_4 = np.ones((4,2,2,2))\n",
    "# print(ones_4)"
   ]
  },
  {
   "cell_type": "code",
   "execution_count": 58,
   "id": "d156c460",
   "metadata": {},
   "outputs": [
    {
     "name": "stdout",
     "output_type": "stream",
     "text": [
      "[]\n"
     ]
    }
   ],
   "source": [
    "empty_1 = np.empty((0))\n",
    "print(empty_1)"
   ]
  },
  {
   "cell_type": "code",
   "execution_count": 59,
   "id": "c486eb3f",
   "metadata": {},
   "outputs": [
    {
     "name": "stdout",
     "output_type": "stream",
     "text": [
      "[[1. 0. 0.]\n",
      " [0. 1. 0.]\n",
      " [0. 0. 1.]]\n"
     ]
    }
   ],
   "source": [
    "eye_1 = np.eye((3)) # rows x columns  bydefault float numbers.\n",
    "print(eye_1)"
   ]
  },
  {
   "cell_type": "code",
   "execution_count": 60,
   "id": "9c7f05a0",
   "metadata": {},
   "outputs": [
    {
     "data": {
      "text/plain": [
       "array([[1.  , 1.18, 1.36, 1.54, 1.72, 1.9 , 2.08, 2.26, 2.44, 2.62, 2.8 ,\n",
       "        2.98, 3.16, 3.34, 3.52, 3.7 , 3.88, 4.06, 4.24, 4.42, 4.6 , 4.78,\n",
       "        4.96, 5.14, 5.32, 5.5 , 5.68, 5.86, 6.04, 6.22, 6.4 , 6.58, 6.76,\n",
       "        6.94, 7.12, 7.3 , 7.48, 7.66, 7.84, 8.02, 8.2 , 8.38, 8.56, 8.74,\n",
       "        8.92, 9.1 , 9.28, 9.46, 9.64, 9.82],\n",
       "       [5.  , 5.1 , 5.2 , 5.3 , 5.4 , 5.5 , 5.6 , 5.7 , 5.8 , 5.9 , 6.  ,\n",
       "        6.1 , 6.2 , 6.3 , 6.4 , 6.5 , 6.6 , 6.7 , 6.8 , 6.9 , 7.  , 7.1 ,\n",
       "        7.2 , 7.3 , 7.4 , 7.5 , 7.6 , 7.7 , 7.8 , 7.9 , 8.  , 8.1 , 8.2 ,\n",
       "        8.3 , 8.4 , 8.5 , 8.6 , 8.7 , 8.8 , 8.9 , 9.  , 9.1 , 9.2 , 9.3 ,\n",
       "        9.4 , 9.5 , 9.6 , 9.7 , 9.8 , 9.9 ]])"
      ]
     },
     "execution_count": 60,
     "metadata": {},
     "output_type": "execute_result"
    }
   ],
   "source": [
    "np.linspace([1,5],10,endpoint=False,axis=1)"
   ]
  },
  {
   "cell_type": "code",
   "execution_count": 61,
   "id": "69cbe3d9",
   "metadata": {},
   "outputs": [
    {
     "data": {
      "text/plain": [
       "array([[   100.        ,    115.13953993,    132.57113656,\n",
       "           152.64179672,    175.75106249,    202.35896477,\n",
       "           232.99518105,    268.26957953,    308.88435965,\n",
       "           355.64803062,    409.49150624,    471.48663635,\n",
       "           542.86754393,    625.05519253,    719.685673  ,\n",
       "           828.64277285,    954.09547635,   1098.54114199,\n",
       "          1264.85521686,   1456.3484775 ,   1676.83293681,\n",
       "          1930.69772888,   2222.99648253,   2559.5479227 ,\n",
       "          2947.05170255,   3393.2217719 ,   3906.93993705,\n",
       "          4498.43266897,   5179.47467923,   5963.62331659,\n",
       "          6866.48845004,   7906.04321091,   9102.98177992,\n",
       "         10481.13134155,  12067.92640639,  13894.95494373,\n",
       "         15998.58719606,  18420.69969327,  21209.5088792 ,\n",
       "         24420.53094549,  28117.68697974,  32374.57542818,\n",
       "         37275.93720315,  42919.34260129,  49417.13361324,\n",
       "         56898.66029018,  65512.85568596,  75431.20063355,\n",
       "         86851.13737514, 100000.        ]])"
      ]
     },
     "execution_count": 61,
     "metadata": {},
     "output_type": "execute_result"
    }
   ],
   "source": [
    "np.logspace([2],[5],axis=1)"
   ]
  },
  {
   "cell_type": "code",
   "execution_count": 62,
   "id": "108d21c7",
   "metadata": {},
   "outputs": [
    {
     "data": {
      "text/plain": [
       "array([4.        , 4.07692308, 4.15384615, 4.23076923, 4.30769231,\n",
       "       4.38461538, 4.46153846, 4.53846154, 4.61538462, 4.69230769,\n",
       "       4.76923077, 4.84615385, 4.92307692, 5.        , 5.07692308,\n",
       "       5.15384615, 5.23076923, 5.30769231, 5.38461538, 5.46153846,\n",
       "       5.53846154, 5.61538462, 5.69230769, 5.76923077, 5.84615385,\n",
       "       5.92307692, 6.        , 6.07692308, 6.15384615, 6.23076923,\n",
       "       6.30769231, 6.38461538, 6.46153846, 6.53846154, 6.61538462,\n",
       "       6.69230769, 6.76923077, 6.84615385, 6.92307692, 7.        ])"
      ]
     },
     "execution_count": 62,
     "metadata": {},
     "output_type": "execute_result"
    }
   ],
   "source": [
    "arr_10 = np.linspace(4,7,40)\n",
    "arr_10"
   ]
  },
  {
   "cell_type": "code",
   "execution_count": 63,
   "id": "0509179b",
   "metadata": {},
   "outputs": [
    {
     "data": {
      "text/plain": [
       "1"
      ]
     },
     "execution_count": 63,
     "metadata": {},
     "output_type": "execute_result"
    }
   ],
   "source": [
    "arr_10.ndim"
   ]
  },
  {
   "cell_type": "code",
   "execution_count": 64,
   "id": "58987332",
   "metadata": {},
   "outputs": [
    {
     "data": {
      "text/plain": [
       "(40,)"
      ]
     },
     "execution_count": 64,
     "metadata": {},
     "output_type": "execute_result"
    }
   ],
   "source": [
    "arr_10.shape"
   ]
  },
  {
   "cell_type": "code",
   "execution_count": 65,
   "id": "2a636357",
   "metadata": {},
   "outputs": [
    {
     "data": {
      "text/plain": [
       "array([4.        , 4.07692308, 4.15384615, 4.23076923, 4.30769231,\n",
       "       4.38461538, 4.46153846, 4.53846154, 4.61538462, 4.69230769,\n",
       "       4.76923077, 4.84615385, 4.92307692, 5.        , 5.07692308,\n",
       "       5.15384615, 5.23076923, 5.30769231, 5.38461538, 5.46153846,\n",
       "       5.53846154, 5.61538462, 5.69230769, 5.76923077, 5.84615385,\n",
       "       5.92307692, 6.        , 6.07692308, 6.15384615, 6.23076923,\n",
       "       6.30769231, 6.38461538, 6.46153846, 6.53846154, 6.61538462,\n",
       "       6.69230769, 6.76923077, 6.84615385, 6.92307692, 7.        ])"
      ]
     },
     "execution_count": 65,
     "metadata": {},
     "output_type": "execute_result"
    }
   ],
   "source": [
    "# arr_10.reshape(40,1)\n",
    "arr_10.reshape(2,1,20)\n",
    "arr_10"
   ]
  },
  {
   "cell_type": "code",
   "execution_count": 66,
   "id": "981843b5",
   "metadata": {},
   "outputs": [
    {
     "data": {
      "text/plain": [
       "1"
      ]
     },
     "execution_count": 66,
     "metadata": {},
     "output_type": "execute_result"
    }
   ],
   "source": [
    "arr_10.ndim"
   ]
  },
  {
   "cell_type": "code",
   "execution_count": 67,
   "id": "8ffac526",
   "metadata": {},
   "outputs": [
    {
     "data": {
      "text/plain": [
       "(40,)"
      ]
     },
     "execution_count": 67,
     "metadata": {},
     "output_type": "execute_result"
    }
   ],
   "source": [
    "arr_10.shape"
   ]
  },
  {
   "cell_type": "code",
   "execution_count": 68,
   "id": "922b2868",
   "metadata": {},
   "outputs": [],
   "source": [
    "# np.tensordot(1,1)\n"
   ]
  },
  {
   "cell_type": "code",
   "execution_count": 69,
   "id": "1a5e134d",
   "metadata": {},
   "outputs": [
    {
     "data": {
      "text/plain": [
       "array([0.86782207, 0.10747713, 0.79259099, 0.63152294, 0.93702796])"
      ]
     },
     "execution_count": 69,
     "metadata": {},
     "output_type": "execute_result"
    }
   ],
   "source": [
    "arr_12 = np.random.rand(5)\n",
    "arr_12"
   ]
  },
  {
   "cell_type": "code",
   "execution_count": 70,
   "id": "d1d8a04c",
   "metadata": {},
   "outputs": [
    {
     "data": {
      "text/plain": [
       "array([-1.90642885,  0.38586656,  0.1884779 , -0.29075478, -0.2206831 ])"
      ]
     },
     "execution_count": 70,
     "metadata": {},
     "output_type": "execute_result"
    }
   ],
   "source": [
    "arr_13 = np.random.randn(5)\n",
    "arr_13"
   ]
  },
  {
   "cell_type": "code",
   "execution_count": 71,
   "id": "bd3739f2",
   "metadata": {},
   "outputs": [
    {
     "data": {
      "text/plain": [
       "array([[-0.83316083, -1.21778234, -0.19388387],\n",
       "       [ 0.12387553, -2.03794729, -0.84630489]])"
      ]
     },
     "execution_count": 71,
     "metadata": {},
     "output_type": "execute_result"
    }
   ],
   "source": [
    "arr_14 = np.random.randn(2,3,)\n",
    "arr_14"
   ]
  },
  {
   "cell_type": "code",
   "execution_count": 72,
   "id": "37639778",
   "metadata": {},
   "outputs": [
    {
     "data": {
      "text/plain": [
       "array([[32, 20, 38, 11],\n",
       "       [ 8, 17, 13, 25],\n",
       "       [27, 38, 19, 18],\n",
       "       [30, 19, 10, 24]])"
      ]
     },
     "execution_count": 72,
     "metadata": {},
     "output_type": "execute_result"
    }
   ],
   "source": [
    "arr_15 = np.random.randint(5,40,(4,4))\n",
    "arr_15"
   ]
  },
  {
   "cell_type": "code",
   "execution_count": 73,
   "id": "de6e5ddc",
   "metadata": {},
   "outputs": [
    {
     "data": {
      "text/plain": [
       "array([[35, 39,  5, 27],\n",
       "       [30, 10, 33, 10],\n",
       "       [31, 16, 31, 10],\n",
       "       [17, 18, 17, 27]])"
      ]
     },
     "execution_count": 73,
     "metadata": {},
     "output_type": "execute_result"
    }
   ],
   "source": [
    "arr_16 = np.random.randint(5,40,(4,4))\n",
    "arr_16"
   ]
  },
  {
   "cell_type": "code",
   "execution_count": 74,
   "id": "222fba67",
   "metadata": {},
   "outputs": [
    {
     "data": {
      "text/plain": [
       "array([[35, 39,  5, 27, 30, 10, 33, 10],\n",
       "       [31, 16, 31, 10, 17, 18, 17, 27]])"
      ]
     },
     "execution_count": 74,
     "metadata": {},
     "output_type": "execute_result"
    }
   ],
   "source": [
    "arr_16.reshape(1,16)\n",
    "arr_16.reshape(16,1)\n",
    "arr_16.reshape(8,2)\n",
    "arr_16.reshape(2,8)\n"
   ]
  },
  {
   "cell_type": "code",
   "execution_count": 75,
   "id": "bb60797f",
   "metadata": {},
   "outputs": [
    {
     "data": {
      "text/plain": [
       "array([[35, 39,  5, 27, 30, 10, 33, 10],\n",
       "       [31, 16, 31, 10, 17, 18, 17, 27]])"
      ]
     },
     "execution_count": 75,
     "metadata": {},
     "output_type": "execute_result"
    }
   ],
   "source": [
    "arr_16.reshape(4,-10) # any negitive numbers give. \n",
    "arr_16.reshape(2,-10)"
   ]
  },
  {
   "cell_type": "code",
   "execution_count": 76,
   "id": "2276a623",
   "metadata": {},
   "outputs": [
    {
     "data": {
      "text/plain": [
       "39"
      ]
     },
     "execution_count": 76,
     "metadata": {},
     "output_type": "execute_result"
    }
   ],
   "source": [
    "arr_16.max()"
   ]
  },
  {
   "cell_type": "code",
   "execution_count": 77,
   "id": "d6d00ef4",
   "metadata": {},
   "outputs": [
    {
     "data": {
      "text/plain": [
       "5"
      ]
     },
     "execution_count": 77,
     "metadata": {},
     "output_type": "execute_result"
    }
   ],
   "source": [
    "arr_16.min()"
   ]
  },
  {
   "cell_type": "code",
   "execution_count": 78,
   "id": "b11a4e4b",
   "metadata": {},
   "outputs": [
    {
     "data": {
      "text/plain": [
       "2"
      ]
     },
     "execution_count": 78,
     "metadata": {},
     "output_type": "execute_result"
    }
   ],
   "source": [
    "arr_16.argmin()"
   ]
  },
  {
   "cell_type": "code",
   "execution_count": 79,
   "id": "5b18ce03",
   "metadata": {},
   "outputs": [
    {
     "data": {
      "text/plain": [
       "356"
      ]
     },
     "execution_count": 79,
     "metadata": {},
     "output_type": "execute_result"
    }
   ],
   "source": [
    "arr_16.sum()"
   ]
  },
  {
   "cell_type": "code",
   "execution_count": null,
   "id": "d02aea8b",
   "metadata": {},
   "outputs": [],
   "source": []
  },
  {
   "cell_type": "code",
   "execution_count": 80,
   "id": "ddf1252c",
   "metadata": {},
   "outputs": [
    {
     "data": {
      "text/plain": [
       "array([[34, 54, 76, 88, 56],\n",
       "       [28, 73, 74, 53, 62],\n",
       "       [12, 89, 37, 83, 87],\n",
       "       [65, 79, 92, 27, 56],\n",
       "       [92, 34, 20, 28, 46]])"
      ]
     },
     "execution_count": 80,
     "metadata": {},
     "output_type": "execute_result"
    }
   ],
   "source": [
    "arr_17 = np.random.randint(4,100,(5,5))\n",
    "arr_17\n",
    "# find the some data from the set(arr_17)"
   ]
  },
  {
   "cell_type": "code",
   "execution_count": 81,
   "id": "47e4e3ce",
   "metadata": {},
   "outputs": [
    {
     "data": {
      "text/plain": [
       "array([[27, 56],\n",
       "       [28, 46]])"
      ]
     },
     "execution_count": 81,
     "metadata": {},
     "output_type": "execute_result"
    }
   ],
   "source": [
    "arr_17[3: ,3:] # show ths some data part(arr_17)\n"
   ]
  },
  {
   "cell_type": "code",
   "execution_count": 82,
   "id": "ee708684",
   "metadata": {},
   "outputs": [
    {
     "data": {
      "text/plain": [
       "array([[54, 88],\n",
       "       [73, 53],\n",
       "       [89, 83],\n",
       "       [79, 27],\n",
       "       [34, 28]])"
      ]
     },
     "execution_count": 82,
     "metadata": {},
     "output_type": "execute_result"
    }
   ],
   "source": [
    "arr_17[:,[1,3]] "
   ]
  },
  {
   "cell_type": "code",
   "execution_count": 83,
   "id": "b01f2441",
   "metadata": {},
   "outputs": [
    {
     "data": {
      "text/plain": [
       "array([[65, 79, 92, 27, 56],\n",
       "       [12, 89, 37, 83, 87]])"
      ]
     },
     "execution_count": 83,
     "metadata": {},
     "output_type": "execute_result"
    }
   ],
   "source": [
    "arr_17[[3,2],:]"
   ]
  },
  {
   "cell_type": "code",
   "execution_count": 84,
   "id": "d5ad4912",
   "metadata": {},
   "outputs": [
    {
     "data": {
      "text/plain": [
       "array([27, 37])"
      ]
     },
     "execution_count": 84,
     "metadata": {},
     "output_type": "execute_result"
    }
   ],
   "source": [
    "arr_17[[3,2],[3,2]]"
   ]
  },
  {
   "cell_type": "code",
   "execution_count": 85,
   "id": "718ff7c5",
   "metadata": {},
   "outputs": [
    {
     "data": {
      "text/plain": [
       "array([[ True,  True,  True,  True,  True],\n",
       "       [ True,  True,  True,  True,  True],\n",
       "       [ True,  True,  True,  True,  True],\n",
       "       [ True,  True,  True,  True,  True],\n",
       "       [ True,  True,  True,  True,  True]])"
      ]
     },
     "execution_count": 85,
     "metadata": {},
     "output_type": "execute_result"
    }
   ],
   "source": [
    "arr_17>10  # give a boolen values (codition op.)"
   ]
  },
  {
   "cell_type": "code",
   "execution_count": 86,
   "id": "22aaf1b3",
   "metadata": {},
   "outputs": [
    {
     "data": {
      "text/plain": [
       "array([34, 54, 76, 88, 56, 28, 73, 74, 53, 62, 12, 89, 37, 83, 87, 65, 79,\n",
       "       92, 27, 56, 92, 34, 20, 28, 46])"
      ]
     },
     "execution_count": 86,
     "metadata": {},
     "output_type": "execute_result"
    }
   ],
   "source": [
    "arr_17[arr_17>10] # values"
   ]
  },
  {
   "cell_type": "code",
   "execution_count": 87,
   "id": "79e12ef2",
   "metadata": {},
   "outputs": [
    {
     "data": {
      "text/plain": [
       "array([[3, 2, 3],\n",
       "       [2, 3, 3],\n",
       "       [3, 3, 2]])"
      ]
     },
     "execution_count": 87,
     "metadata": {},
     "output_type": "execute_result"
    }
   ],
   "source": [
    "arr_18_A = np.random.randint(2,4,(3,3))\n",
    "arr_18_A "
   ]
  },
  {
   "cell_type": "code",
   "execution_count": 88,
   "id": "78769e1c",
   "metadata": {},
   "outputs": [
    {
     "data": {
      "text/plain": [
       "array([[2, 2, 2],\n",
       "       [2, 3, 3],\n",
       "       [2, 3, 3]])"
      ]
     },
     "execution_count": 88,
     "metadata": {},
     "output_type": "execute_result"
    }
   ],
   "source": [
    "arr_18_B = np.random.randint(2,4,(3,3))\n",
    "arr_18_B"
   ]
  },
  {
   "cell_type": "code",
   "execution_count": 89,
   "id": "27326942",
   "metadata": {},
   "outputs": [
    {
     "data": {
      "text/plain": [
       "array([[6, 4, 6],\n",
       "       [4, 9, 9],\n",
       "       [6, 9, 6]])"
      ]
     },
     "execution_count": 89,
     "metadata": {},
     "output_type": "execute_result"
    }
   ],
   "source": [
    "arr_18_A * arr_18_B # (multiply for index base) (dymention is same nacessary)"
   ]
  },
  {
   "cell_type": "code",
   "execution_count": 90,
   "id": "018ab7e3",
   "metadata": {},
   "outputs": [
    {
     "data": {
      "text/plain": [
       "array([[16, 21, 21],\n",
       "       [16, 22, 22],\n",
       "       [16, 21, 21]])"
      ]
     },
     "execution_count": 90,
     "metadata": {},
     "output_type": "execute_result"
    }
   ],
   "source": [
    "arr_18_A @ arr_18_B "
   ]
  },
  {
   "cell_type": "code",
   "execution_count": 91,
   "id": "f21a564f",
   "metadata": {},
   "outputs": [
    {
     "data": {
      "text/plain": [
       "array([[9, 4, 9],\n",
       "       [4, 9, 9],\n",
       "       [9, 9, 4]], dtype=int32)"
      ]
     },
     "execution_count": 91,
     "metadata": {},
     "output_type": "execute_result"
    }
   ],
   "source": [
    "arr_18_A**2"
   ]
  },
  {
   "cell_type": "code",
   "execution_count": 114,
   "id": "088f024a",
   "metadata": {},
   "outputs": [],
   "source": [
    "# broad casting"
   ]
  },
  {
   "cell_type": "code",
   "execution_count": 115,
   "id": "caca7a94",
   "metadata": {},
   "outputs": [
    {
     "data": {
      "text/plain": [
       "array([[0., 0., 0., 0.],\n",
       "       [0., 0., 0., 0.],\n",
       "       [0., 0., 0., 0.]])"
      ]
     },
     "execution_count": 115,
     "metadata": {},
     "output_type": "execute_result"
    }
   ],
   "source": [
    "arr_19 = np.zeros((3,4))\n",
    "arr_19"
   ]
  },
  {
   "cell_type": "code",
   "execution_count": 93,
   "id": "8f5c2835",
   "metadata": {},
   "outputs": [
    {
     "data": {
      "text/plain": [
       "array([1, 2, 3, 4])"
      ]
     },
     "execution_count": 93,
     "metadata": {},
     "output_type": "execute_result"
    }
   ],
   "source": [
    "arr_20 = np.array([1,2,3,4]) # Shape are some like[(3,)(3,),(4,)(4,),....] or only one\n",
    "# arr_20 = np.array([5])\n",
    "arr_20"
   ]
  },
  {
   "cell_type": "code",
   "execution_count": 94,
   "id": "ee082914",
   "metadata": {},
   "outputs": [
    {
     "data": {
      "text/plain": [
       "array([[1., 2., 3., 4.],\n",
       "       [1., 2., 3., 4.],\n",
       "       [1., 2., 3., 4.]])"
      ]
     },
     "execution_count": 94,
     "metadata": {},
     "output_type": "execute_result"
    }
   ],
   "source": [
    "arr_19 + arr_20"
   ]
  },
  {
   "cell_type": "code",
   "execution_count": 95,
   "id": "13175c9b",
   "metadata": {},
   "outputs": [],
   "source": [
    "arr_21 = np.array([5])"
   ]
  },
  {
   "cell_type": "code",
   "execution_count": 96,
   "id": "de46268c",
   "metadata": {},
   "outputs": [
    {
     "data": {
      "text/plain": [
       "array([[5., 5., 5., 5.],\n",
       "       [5., 5., 5., 5.],\n",
       "       [5., 5., 5., 5.]])"
      ]
     },
     "execution_count": 96,
     "metadata": {},
     "output_type": "execute_result"
    }
   ],
   "source": [
    "arr_19 + arr_21\n"
   ]
  },
  {
   "cell_type": "code",
   "execution_count": 102,
   "id": "24a7c315",
   "metadata": {},
   "outputs": [
    {
     "data": {
      "text/plain": [
       "array([[7, 8, 9]])"
      ]
     },
     "execution_count": 102,
     "metadata": {},
     "output_type": "execute_result"
    }
   ],
   "source": [
    "# into clm ******************************************************\n"
   ]
  },
  {
   "cell_type": "code",
   "execution_count": 100,
   "id": "2087b9ba",
   "metadata": {},
   "outputs": [
    {
     "data": {
      "text/plain": [
       "array([[7],\n",
       "       [8],\n",
       "       [9]])"
      ]
     },
     "execution_count": 100,
     "metadata": {},
     "output_type": "execute_result"
    }
   ],
   "source": []
  },
  {
   "cell_type": "code",
   "execution_count": 116,
   "id": "7b6b2737",
   "metadata": {},
   "outputs": [
    {
     "data": {
      "text/plain": [
       "array([[7., 7., 7., 7.],\n",
       "       [8., 8., 8., 8.],\n",
       "       [9., 9., 9., 9.]])"
      ]
     },
     "execution_count": 116,
     "metadata": {},
     "output_type": "execute_result"
    }
   ],
   "source": [
    "arr_23 = np.zeros((3,4))\n",
    "arr_23\n",
    "\n",
    "arr_22 = np.array([[7,8,9]])\n",
    "# change shape\n",
    "arr_22.reshape(1,3)\n",
    "arr_22.shape\n",
    "\n",
    "x = arr_22.reshape(3,1)\n",
    "x.shape\n",
    "\n",
    "y = arr_22.T\n",
    "y.shape\n",
    "\n",
    "y + arr_23"
   ]
  },
  {
   "cell_type": "code",
   "execution_count": null,
   "id": "c75dc1e7",
   "metadata": {},
   "outputs": [],
   "source": [
    "arr_24 = np.array([[1,2,3,4],[5,6,7,8]])"
   ]
  },
  {
   "cell_type": "code",
   "execution_count": 118,
   "id": "bf77ba4e",
   "metadata": {},
   "outputs": [
    {
     "data": {
      "text/plain": [
       "array([[1.        , 1.41421356, 1.73205081, 2.        ],\n",
       "       [2.23606798, 2.44948974, 2.64575131, 2.82842712]])"
      ]
     },
     "execution_count": 118,
     "metadata": {},
     "output_type": "execute_result"
    }
   ],
   "source": [
    "sqrt = np.sqrt(arr_24)\n",
    "sqrt"
   ]
  },
  {
   "cell_type": "code",
   "execution_count": 120,
   "id": "5afaf6ef",
   "metadata": {},
   "outputs": [
    {
     "data": {
      "text/plain": [
       "array([[2.71828183e+00, 7.38905610e+00, 2.00855369e+01, 5.45981500e+01],\n",
       "       [1.48413159e+02, 4.03428793e+02, 1.09663316e+03, 2.98095799e+03]])"
      ]
     },
     "execution_count": 120,
     "metadata": {},
     "output_type": "execute_result"
    }
   ],
   "source": [
    "exp = np.exp(arr_24)\n",
    "exp"
   ]
  },
  {
   "cell_type": "code",
   "execution_count": 133,
   "id": "797f724d",
   "metadata": {},
   "outputs": [
    {
     "data": {
      "text/plain": [
       "array([2.        , 2.02748074, 2.05444778, 2.08092   , 2.1069152 ,\n",
       "       2.1324503 , 2.15754128, 2.18220333, 2.20645088, 2.23029762,\n",
       "       2.25375659, 2.27684021, 2.29956028, 2.32192809, 2.3439544 ,\n",
       "       2.36564947, 2.38702312, 2.40808474, 2.4288433 , 2.4493074 ,\n",
       "       2.46948528, 2.48938484, 2.50901365, 2.52837897, 2.5474878 ,\n",
       "       2.56634682, 2.5849625 , 2.60334103, 2.62148838, 2.63941028,\n",
       "       2.65711229, 2.67459971, 2.6918777 , 2.70895122, 2.72582504,\n",
       "       2.74250378, 2.7589919 , 2.77529371, 2.79141338, 2.80735492])"
      ]
     },
     "execution_count": 133,
     "metadata": {},
     "output_type": "execute_result"
    }
   ],
   "source": [
    "log = np.log10(arr_10)\n",
    "log = np.log(arr_10)\n",
    "log = np.log2(arr_10)\n",
    "log"
   ]
  },
  {
   "cell_type": "code",
   "execution_count": null,
   "id": "57ec6150",
   "metadata": {},
   "outputs": [],
   "source": []
  }
 ],
 "metadata": {
  "kernelspec": {
   "display_name": "Python 3 (ipykernel)",
   "language": "python",
   "name": "python3"
  },
  "language_info": {
   "codemirror_mode": {
    "name": "ipython",
    "version": 3
   },
   "file_extension": ".py",
   "mimetype": "text/x-python",
   "name": "python",
   "nbconvert_exporter": "python",
   "pygments_lexer": "ipython3",
   "version": "3.9.7"
  }
 },
 "nbformat": 4,
 "nbformat_minor": 5
}
