{
 "cells": [
  {
   "cell_type": "markdown",
   "id": "928c9594",
   "metadata": {},
   "source": [
    "## NumPy"
   ]
  },
  {
   "cell_type": "code",
   "execution_count": 1,
   "id": "bbb7b4b0",
   "metadata": {},
   "outputs": [],
   "source": [
    "# import the library first.\n",
    "# syntex : import numpy \n",
    "# sort name : import numpy as np"
   ]
  },
  {
   "cell_type": "markdown",
   "id": "2e55c81a",
   "metadata": {},
   "source": [
    "## NumPy Arrays"
   ]
  },
  {
   "cell_type": "code",
   "execution_count": 2,
   "id": "ff139b32",
   "metadata": {},
   "outputs": [],
   "source": [
    "# create a array\n",
    "# syntex :  array_name = np.array()\n",
    "\n",
    "# Type of numpy array\n",
    "# 1-D  --- arr = np.array([1,2,3])\n",
    "# 2-D  --- arr = np.array([[1,2,3],[4,5,6]])\n",
    "# 3-D  --- arr = np.array([[[1,2,3],[,4,5,6]],[[1,2,3],[,4,5,6]]])\n",
    "# n-D  --- arr = np.array"
   ]
  },
  {
   "cell_type": "markdown",
   "id": "37eb7bef",
   "metadata": {},
   "source": [
    "## Creating Arrays"
   ]
  },
  {
   "cell_type": "code",
   "execution_count": 3,
   "id": "76f587cd",
   "metadata": {},
   "outputs": [],
   "source": [
    "import numpy as np\n",
    "# array_name = np.array()\n",
    "# arr_1D = np.array([1,2,3])\n",
    "# print(f\"The one D array\\t \\t {arr_1D}  \\nThe dymention of array \\t {arr_1D.ndim}\")\n",
    "\n",
    "\n",
    "# arr_2D = np.array([[1,2,3],[4,5,6]])\n",
    "# print(f\"The one D array \\n {arr_2D}  \\nThe dymention of array \\n {arr_2D.ndim}\")\n",
    "\n",
    "# arr_3D = np.array([[[1,2,3],[4,5,6]],[[7,8,9],[10,11,12]]])\n",
    "# print(f\"The one D array \\n {arr_3D}  \\nThe dymention of array \\n {arr_3D.ndim}\")"
   ]
  },
  {
   "cell_type": "markdown",
   "id": "3696c4cb",
   "metadata": {},
   "source": [
    "## Initial Placeholders"
   ]
  },
  {
   "cell_type": "code",
   "execution_count": 4,
   "id": "124906b7",
   "metadata": {},
   "outputs": [],
   "source": [
    "#  spaced values                              (number of samples)\n",
    "\n",
    "# >>>                            Create a 2X2 identity matrix\n",
    "# >>> np.linspace(0,2,9))                 Create an array with random values\n",
    "# >>>                         Create an empty array"
   ]
  },
  {
   "cell_type": "code",
   "execution_count": 5,
   "id": "ae5d0dcb",
   "metadata": {},
   "outputs": [],
   "source": [
    "# print(np.zeros((2,3)))\n",
    "# print(np.ones((2,2,2)))  #.... ((clm,row,dymention))\n",
    "# print(np.arange(21))  #.... (start(),stop(),step())\n",
    "# print(np.linspace(0,2,9))\n",
    "# print(np.full((4,2),2))   #.... ((row,clm),element)\n",
    "# print(np.random.random(2)) #.... (elemet_numbers) one-D\n",
    "# print( np.eye(5))            #.... (size(clm and row both have same size)) \n",
    "# print(np.empty((2,2)))     #.... ((element,row,Dymention))"
   ]
  },
  {
   "cell_type": "markdown",
   "id": "e77d2b98",
   "metadata": {},
   "source": [
    "## Inspecting Your Array"
   ]
  },
  {
   "cell_type": "code",
   "execution_count": 6,
   "id": "8111e788",
   "metadata": {},
   "outputs": [],
   "source": [
    "\n",
    "# >>> e.size Number of array elements\n",
    "# >>> b.dtype Data type of array elements\n",
    "# >>> b.dtype.name Name of data type \n",
    "# >>> b.astype(int) Convert an array to a different type"
   ]
  },
  {
   "cell_type": "code",
   "execution_count": 7,
   "id": "69ad38b7",
   "metadata": {},
   "outputs": [],
   "source": [
    "# arr_01 = np.array([[[1,2],[4,5]],[[1,2],[4,5]],[[1,2],[4,5]],[[1,2],[4,5]]])\n",
    "# print(arr_01.shape)\n",
    "# print(arr_01.ndim)\n",
    "# print(len(arr_01))\n"
   ]
  },
  {
   "cell_type": "markdown",
   "id": "8ba01e99",
   "metadata": {},
   "source": [
    "## ARITHMETIC OPERATIONS"
   ]
  },
  {
   "cell_type": "code",
   "execution_count": 8,
   "id": "d44a10dc",
   "metadata": {},
   "outputs": [],
   "source": [
    "# # 1-D array \n",
    "# arr_1 = np.array([1,2,3,4])\n",
    "# arr_2 = np.array([5,6,7,8])\n",
    "\n",
    "\n",
    "# #  2-D\n",
    "# arr_1 = np.array([[1,2,3,4],[9,10,11,12]])\n",
    "# arr_2 = np.array([[5,6,7,8],[13,14,15,19]])\n",
    "\n",
    "\n",
    "# Sum = arr_1 + arr_2\n",
    "# print(Sum)\n",
    "\n",
    "# Sum = np.add(arr_1,arr_2)\n",
    "# print(Sum)\n",
    "\n",
    "\n",
    "# Sub = arr_1 - arr_2\n",
    "# print(Sub)\n",
    "\n",
    "# Sub = np.subtract(arr_1,arr_2)\n",
    "# print(Sub)\n",
    "\n",
    "\n",
    "# mult = arr_1 * arr_2\n",
    "# print(mult)\n",
    "\n",
    "# Mult = np.multiply(arr_1,arr_2)\n",
    "# print(Mult)\n",
    "\n",
    "\n",
    "# div = arr_1 / arr_2\n",
    "# print(div)\n",
    "\n",
    "# Div = np.divide(arr_1,arr_2)\n",
    "# print(Div)\n",
    "\n",
    "\n",
    "# f_div = arr_1 // arr_2\n",
    "# print(f_div)\n",
    "\n",
    "# F_div = np.floor_divide(arr_1,arr_2)\n",
    "# print(F_div)\n",
    "\n",
    "\n",
    "# Mod = arr_1 % arr_2\n",
    "# print(Mod)\n",
    "\n",
    "# mod = np.mod(arr_1,arr_2)\n",
    "# print(mod)\n",
    "\n",
    "\n",
    "# print(arr_1**arr_2)\n",
    "# print(arr_2**arr_1)\n",
    "\n",
    "\n",
    "\n",
    "# Exp = np.exp(arr_1)\n",
    "# print(Exp)\n",
    "\n",
    "\n",
    "\n",
    "# arr_3 = np.array([3])\n",
    "# Sqrt = np.sqrt(arr_3)\n",
    "# print(Sqrt)\n",
    "\n"
   ]
  },
  {
   "cell_type": "markdown",
   "id": "6344a7e5",
   "metadata": {},
   "source": [
    "## COMPARISON "
   ]
  },
  {
   "cell_type": "code",
   "execution_count": 9,
   "id": "736b1b8e",
   "metadata": {},
   "outputs": [],
   "source": [
    "# # 1-D\n",
    "# arr_1 = np.array([1,2,7,9])\n",
    "# arr_2 = np.array([5,6,7,8])\n",
    "# print(arr_1 == arr_2)\n",
    "# print(arr_1 > arr_2)\n",
    "# print(arr_1 < arr_2) \n",
    "# # The \"==\",\"<\",\">\" check onle by one element in the array.\n",
    "# print(np.array_equal(arr_1,arr_2)) # the array_equal() check complite array \n",
    "\n",
    "# # 2-D\n",
    "# arr_4 = np.array([[5,2,7,4],[9,10,7,19]])\n",
    "# arr_5 = np.array([[5,6,7,8],[13,14,7,19]])\n",
    "# print(arr_4 == arr_5)\n",
    "# print(arr_4 > arr_5)\n",
    "# print(arr_4 < arr_5)\n",
    "# print(np.array_equal(arr_4,arr_5))\n",
    "\n",
    "\n"
   ]
  },
  {
   "cell_type": "markdown",
   "id": "6ffa6f8d",
   "metadata": {},
   "source": [
    "## AGGREGATE FUNCTION"
   ]
  },
  {
   "cell_type": "code",
   "execution_count": 10,
   "id": "faec9db3",
   "metadata": {},
   "outputs": [],
   "source": [
    "# # 1-D\n",
    "# arr_6 = np.array([1,2,7,9])\n",
    "# print(\"The sum of array 1-D :\",arr_6.sum())\n",
    "# print(\"The min of array 1-D :\",arr_6.min())\n",
    "# print(\"The max of array 1-D :\",arr_6.max())\n",
    "# print(\"The sum of array 1-D :\",arr_6.mean())\n",
    "# print(\"The median of array 1-D :\",arr_6.median())***********\n",
    "# print(\"The std of array 1-D :\",np.std(arr_6))**********\n",
    "# print(\"The cumsum of array 1-D :\",arr_6.cumsum())\n",
    "# print(\"The corrcoef of array 1-D :\",arr_6.corrcoef())**********\n",
    "\n",
    "\n",
    "\n",
    "\n",
    "\n",
    "\n",
    "\n",
    "\n",
    "# # 2-D\n",
    "# arr_7 = np.array([[1,2,7,9],[9,10,11,12]])\n",
    "# print(\"The sum of array 2-D :\",arr_7.sum())\n",
    "# print(\"The min of array 2-D :\",arr_7.min())\n",
    "# print(\"The max of array 2-D :\",arr_7.max())\n",
    "# print(\"The sum of array 2-D :\",arr_7.mean()) \n",
    "# print(\"The median of array 2-D :\",arr_7.median())#***********\n",
    "# print(\"The std of array 2-D    :\",np.std(arr_7))#**********\n",
    "# print(\"The cumsum of array 2-D   :\",arr_7.cumsum())\n",
    "# print(\"The corrcoef of array 2-D :\",arr_7.corrcoef())**********\n"
   ]
  },
  {
   "cell_type": "markdown",
   "id": "3908db05",
   "metadata": {},
   "source": [
    "## COPYING ARRAYS"
   ]
  },
  {
   "cell_type": "code",
   "execution_count": 11,
   "id": "a29499ef",
   "metadata": {},
   "outputs": [],
   "source": [
    "# # 1-D\n",
    "# arr_8 = np.array([1,2,7,9])\n",
    "# print(arr_8.view())\n",
    "# np.copy(arr_8)\n",
    "# print(arr_8.copy())\n",
    "\n",
    "# # 2-D\n",
    "# arr_9 = np.array([[1,2,7,9],[9,10,11,12]])\n",
    "# print(arr_9.view())\n",
    "# np.copy(arr_9)\n",
    "# print(arr_9.copy())"
   ]
  },
  {
   "cell_type": "markdown",
   "id": "de695241",
   "metadata": {},
   "source": [
    "## SORTING ARRAYS"
   ]
  },
  {
   "cell_type": "code",
   "execution_count": 12,
   "id": "7454f8e8",
   "metadata": {},
   "outputs": [],
   "source": [
    "# arr_10 = np.array([1,2,7,9]) #([[1,2,7,9],[9,10,11,12]])\n",
    "# print(arr_10.sort())\n",
    "# print(arr_10.sort(axis=0))"
   ]
  },
  {
   "cell_type": "markdown",
   "id": "b1d96706",
   "metadata": {},
   "source": [
    "## SUBSETTING SLICING INDEXING"
   ]
  },
  {
   "cell_type": "code",
   "execution_count": 13,
   "id": "71b0413f",
   "metadata": {},
   "outputs": [],
   "source": [
    "# # SUBSETTING\n",
    "\n",
    "\n",
    "# 1-D\n",
    "# arr_11 = np.array([1,2,7,9])\n",
    "# arr_11[2] \n",
    "\n",
    "# 2-D\n",
    "# arr_12 = np.array([[1,2,7,9],[9,10,11,12]])\n",
    "# arr_12[0,2]"
   ]
  },
  {
   "cell_type": "code",
   "execution_count": 14,
   "id": "794e47ca",
   "metadata": {},
   "outputs": [],
   "source": [
    "# slicing\n",
    "# 1-D\n",
    "# arr_13 = np.array([1,2,7,9])\n",
    "# arr_13[0:3]\n",
    "# arr_13[:-2]\n",
    "# arr_13[::-1]\n",
    "\n",
    "\n",
    "# 2-D\n",
    "# arr_14 = np.array([[1,2,7,9],[9,10,11,12]])\n",
    "# arr_14[1:3,0] \n",
    "# arr_14[:2]"
   ]
  },
  {
   "cell_type": "code",
   "execution_count": 15,
   "id": "ebee12ea",
   "metadata": {},
   "outputs": [],
   "source": [
    "# BOOLEAN INDEXING\n",
    "# arr_15 = np.array([1,2,7,9])\n",
    "# arr_15[arr_15<5]\n",
    "\n",
    "\n"
   ]
  },
  {
   "cell_type": "code",
   "execution_count": 16,
   "id": "6aca3ff9",
   "metadata": {},
   "outputs": [],
   "source": [
    "# # FANCY INDEXING\n",
    "# arr_15 = np.array([1,2,7,9])"
   ]
  },
  {
   "cell_type": "markdown",
   "id": "ae88e08a",
   "metadata": {},
   "source": [
    "## ARRAY MANIPULATION"
   ]
  },
  {
   "cell_type": "code",
   "execution_count": 17,
   "id": "ad5d04e2",
   "metadata": {},
   "outputs": [],
   "source": [
    "# Transposing array\n",
    "# arr_18 = np.array([1,2,7,9])\n",
    "# i =np.transpose(arr_18)\n",
    "# print(i)\n",
    "# print(arr_18.T)\n",
    "# print(arr_18)\n",
    "\n"
   ]
  },
  {
   "cell_type": "code",
   "execution_count": 18,
   "id": "771b6528",
   "metadata": {},
   "outputs": [],
   "source": [
    "# changing array shape\n",
    "# arr_19 = np.array([1,2,7,9])\n",
    "# print(arr_19.ravel())\n",
    "# print(arr_19.reshape(2,2))"
   ]
  },
  {
   "cell_type": "code",
   "execution_count": 19,
   "id": "e37555ef",
   "metadata": {},
   "outputs": [],
   "source": [
    "# Adding/Removing elements\n",
    "# arr_21 = np.array([1,2,7,9,2,5])\n",
    "# print(arr_21.resize((2,1)))*****************\n",
    "# print(np.append(arr_21,100)) # add end of the array\n",
    "# print(np.insert(arr_21,1,2)) # add for index base.\n",
    "# print(np.delete(arr_21,[2])) # delete elemet for start end to first .\n",
    "# print(np.delete(arr_21,2))\n"
   ]
  },
  {
   "cell_type": "code",
   "execution_count": 20,
   "id": "5f607bc7",
   "metadata": {},
   "outputs": [],
   "source": [
    "# combining array\n",
    "\n",
    "# arr_22 = np.array([1,2,3,4])\n",
    "# arr_23 = np.array([10,11,12])\n",
    "# print(np.concatenate((arr_22,arr_23),axis=0))\n",
    "\n",
    "\n",
    "# arr_22 = np.array([[1,2,3,4],[5,6,7,8]])\n",
    "# arr_23 = np.array([[10,11,12,13],[14,15,16,17]])\n",
    "# print(np.concatenate((arr_22,arr_23),axis=0))\n",
    "# print(np.concatenate((arr_22,arr_23),axis=1))\n",
    "\n",
    "\n",
    "\n"
   ]
  },
  {
   "cell_type": "code",
   "execution_count": 21,
   "id": "7b7cd90a",
   "metadata": {},
   "outputs": [],
   "source": [
    "# arr_24 = np.array([[1,2,3,4],[5,6,7,8]])\n",
    "# arr_25 = np.array([[10,11,12,13],[14,15,16,17]])\n",
    "# print(np.hstack((arr_24,arr_25)))\n",
    "# print()\n",
    "# print(np.hstack((arr_25,arr_24)))\n",
    "\n",
    "\n",
    "# print(np.vstack((arr_24,arr_25)))\n",
    "# print()\n",
    "# print(np.vstack((arr_25,arr_24)))\n"
   ]
  },
  {
   "cell_type": "code",
   "execution_count": 22,
   "id": "9fbdcc36",
   "metadata": {},
   "outputs": [],
   "source": [
    "# splitting array\n",
    "# arr_26 = np.array([[1,2,3,4],[5,6,7,8]])\n",
    "# arr_27 = np.array([[10,11,12,13],[14,15,16,17]])\n",
    "# print(np.hsplit(arr_26,2))\n",
    "# print(np.vsplit(arr_26,2))\n"
   ]
  }
 ],
 "metadata": {
  "kernelspec": {
   "display_name": "Python 3 (ipykernel)",
   "language": "python",
   "name": "python3"
  },
  "language_info": {
   "codemirror_mode": {
    "name": "ipython",
    "version": 3
   },
   "file_extension": ".py",
   "mimetype": "text/x-python",
   "name": "python",
   "nbconvert_exporter": "python",
   "pygments_lexer": "ipython3",
   "version": "3.9.12"
  }
 },
 "nbformat": 4,
 "nbformat_minor": 5
}
