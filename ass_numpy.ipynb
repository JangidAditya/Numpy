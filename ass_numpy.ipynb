{
 "cells": [
  {
   "cell_type": "code",
   "execution_count": 1,
   "id": "65e83689",
   "metadata": {},
   "outputs": [],
   "source": [
    "import numpy as np"
   ]
  },
  {
   "cell_type": "markdown",
   "id": "4c6c59fb",
   "metadata": {},
   "source": [
    "#### 1) Write a program to find and manipulate the shape of ndarray."
   ]
  },
  {
   "cell_type": "code",
   "execution_count": 2,
   "id": "f80dc033",
   "metadata": {},
   "outputs": [
    {
     "name": "stdout",
     "output_type": "stream",
     "text": [
      "Shape of array:  (2, 3)\n"
     ]
    }
   ],
   "source": [
    "\n",
    "arr = np.array( [[ 1, 2, 3],[ 4, 5, 6]] )\n",
    "print(\"Shape of array: \", arr.shape)"
   ]
  },
  {
   "cell_type": "markdown",
   "id": "7cc2e8e7",
   "metadata": {},
   "source": [
    "#### 2) Write a program to find the logarithmic value of numbers from 31 to 40.  "
   ]
  },
  {
   "cell_type": "code",
   "execution_count": 3,
   "id": "b1b47f06",
   "metadata": {},
   "outputs": [
    {
     "name": "stdout",
     "output_type": "stream",
     "text": [
      "Input array :  [31, 32, 33, 34, 35, 36, 37, 38, 39, 40]\n",
      "Output array :  [3.4339872  3.4657359  3.49650756 3.52636052 3.55534806 3.58351894\n",
      " 3.61091791 3.63758616 3.66356165 3.68887945]\n"
     ]
    }
   ],
   "source": [
    "  \n",
    "\n",
    "array = [31,32,33,34,35,36,37,38,39,40]\n",
    "print (\"Input array : \", array)\n",
    "array2 = np.log(array)\n",
    "print (\"Output array : \", array2)"
   ]
  },
  {
   "cell_type": "markdown",
   "id": "ee289833",
   "metadata": {},
   "source": [
    "#### 3) Write a program to create a 3x2 matrix containing zeros and another matrix containing one only."
   ]
  },
  {
   "cell_type": "code",
   "execution_count": 4,
   "id": "99b6dd59",
   "metadata": {},
   "outputs": [
    {
     "ename": "SyntaxError",
     "evalue": "invalid syntax (Temp/ipykernel_10024/2344653589.py, line 1)",
     "output_type": "error",
     "traceback": [
      "\u001b[1;36m  File \u001b[1;32m\"C:\\Users\\admin\\AppData\\Local\\Temp/ipykernel_10024/2344653589.py\"\u001b[1;36m, line \u001b[1;32m1\u001b[0m\n\u001b[1;33m    =>\u001b[0m\n\u001b[1;37m    ^\u001b[0m\n\u001b[1;31mSyntaxError\u001b[0m\u001b[1;31m:\u001b[0m invalid syntax\n"
     ]
    }
   ],
   "source": [
    "\n",
    "=>\n",
    "ix ba = np.zeros([3, 2], dtype = int) \n",
    "print(\"Matrix a : \\n\", a) \n",
    "print(\"\\n\")\n",
    "b = np.ones([3, 2], dtype =int)\n",
    "print(\"Matr : \\n\", b)"
   ]
  },
  {
   "cell_type": "markdown",
   "id": "c5aaa25c",
   "metadata": {},
   "source": [
    "#### 4) Write a program to convert regular array into an ndarray."
   ]
  },
  {
   "cell_type": "code",
   "execution_count": 6,
   "id": "c6814266",
   "metadata": {},
   "outputs": [
    {
     "name": "stdout",
     "output_type": "stream",
     "text": [
      "['mahi' 'jangid' 'vinod' 'aditya']\n",
      "<class 'numpy.ndarray'>\n"
     ]
    }
   ],
   "source": [
    "l =[\"mahi\",\"jangid\",\"vinod\",\"aditya\"]\n",
    "x= np.array(l)\n",
    "print(x)\n",
    "print(type(x))"
   ]
  },
  {
   "cell_type": "markdown",
   "id": "9a3b010d",
   "metadata": {},
   "source": [
    "#### 5) Write a program to create an ndarray containing characters of a string."
   ]
  },
  {
   "cell_type": "code",
   "execution_count": null,
   "id": "9df80e0a",
   "metadata": {},
   "outputs": [],
   "source": [
    "arr = np.array([['apple', 'banana', 'cherry'],['mango','chikoo', 'strawberry']])\n",
    "print(arr)\n",
    "print(type(arr))"
   ]
  },
  {
   "cell_type": "markdown",
   "id": "821eb9a6",
   "metadata": {},
   "source": [
    "#### 6) Write a program to find transpose of two metrics and then perform addition on them."
   ]
  },
  {
   "cell_type": "code",
   "execution_count": 12,
   "id": "64698d0a",
   "metadata": {},
   "outputs": [
    {
     "name": "stdout",
     "output_type": "stream",
     "text": [
      "[[5, 7], [1, 10], [11, 15]]\n",
      "([0, 0, 0], [0, 0, 0])\n",
      "\n",
      "[5, 1, 11]\n",
      "[7, 10, 15]\n",
      "\n",
      "[10, 10, 10]\n",
      "[10, 10, 10]\n",
      "[10, 10, 10]\n"
     ]
    }
   ],
   "source": [
    "X = [[5,7], [1,10], [11,15]]\n",
    "Y = [0, 0, 0], [0, 0, 0]\n",
    "print(X)        \n",
    "print(Y)\n",
    "print()\n",
    "for i in range (len (X)):\n",
    "    for j in range (len (X[0])):\n",
    "        Y [j][i] = X [i][j]\n",
    "for j in Y:\n",
    "    print (j)\n",
    "\n",
    "print()\n",
    "for i in range(len(A)): \n",
    "     for j in range(len(A[0])):\n",
    "        result[i][j] = A[i][j] + B[i][j]\n",
    "for R in result:\n",
    "    print(R)"
   ]
  },
  {
   "cell_type": "markdown",
   "id": "d8bda375",
   "metadata": {},
   "source": [
    "#### 7) Write a program to explain various string manipulation methods on Numpy arrays."
   ]
  },
  {
   "cell_type": "code",
   "execution_count": null,
   "id": "702bcec9",
   "metadata": {},
   "outputs": [],
   "source": [
    "# numpy.lower() function\n",
    "print(np.char.lower(['TIRTHAN', 'SHAH']))\n",
    "# numpy.split() function\n",
    "print(np.char.split('tirthan h shah'))\n",
    "# numpy.join() function\n",
    "print(np.char.join('-', 'tirthan'))\n",
    "# numpy.add() function\n",
    "print(np.char.add(['hello'],[' xyz']) )\n",
    "# numpy.multiply() function\n",
    "print(np.char.multiply('Hello ',3))\n",
    "# numpy.center() function\n",
    "print(np.char.center('hello', 20,fillchar = '*'))\n",
    "# numpy.capitalize() function\n",
    "print(np.char.capitalize('hello world'))\n",
    "# numpy.title() function\n",
    "print(np.char.title('hello how are you?'))\n",
    "# numpy.upper() function\n",
    "print(np.char.upper(['hello','world']))\n",
    "# numpy.splitlines() function\n",
    "print(np.char.splitlines('hello\\nhow are you?') )\n",
    "# numpy.replace() function\n",
    "print(np.char.replace('He is a bad boy', 'is', 'was'))\n",
    "# numpy.decode() function\n",
    "a = np.char.encode('hello', 'cp500') \n",
    "print(a) \n",
    "print(np.char.decode(a,'cp500'))\n",
    "# numpy.encode() function\n",
    "a = np.char.encode('hello', 'cp500') \n",
    "print(a)"
   ]
  },
  {
   "cell_type": "markdown",
   "id": "67ddbec4",
   "metadata": {},
   "source": [
    "#### 8) Write a program to perform various arithmetic functions on Numpy arrays."
   ]
  },
  {
   "cell_type": "code",
   "execution_count": 14,
   "id": "920f5f27",
   "metadata": {},
   "outputs": [
    {
     "name": "stdout",
     "output_type": "stream",
     "text": [
      "First array:\n",
      "[[0. 1. 2.]\n",
      " [3. 4. 5.]\n",
      " [6. 7. 8.]]\n",
      "\n",
      "\n",
      "Second array:\n",
      "[10 10 10]\n",
      "\n",
      "\n",
      "Add the two arrays:\n",
      "[[10. 11. 12.]\n",
      " [13. 14. 15.]\n",
      " [16. 17. 18.]]\n",
      "\n",
      "\n",
      "Subtract the two arrays:\n",
      "[[-10.  -9.  -8.]\n",
      " [ -7.  -6.  -5.]\n",
      " [ -4.  -3.  -2.]]\n",
      "\n",
      "\n",
      "Multiply the two arrays:\n",
      "[[ 0. 10. 20.]\n",
      " [30. 40. 50.]\n",
      " [60. 70. 80.]]\n",
      "\n",
      "\n",
      "Divide the two arrays:\n",
      "[[0.  0.1 0.2]\n",
      " [0.3 0.4 0.5]\n",
      " [0.6 0.7 0.8]]\n"
     ]
    }
   ],
   "source": [
    "a = np.arange(9, dtype = np.float_).reshape(3,3) \n",
    "\n",
    "print( 'First array:' )\n",
    "print( a) \n",
    "print ('\\n')  \n",
    "\n",
    "print ('Second array:' )\n",
    "b = np.array([10,10,10]) \n",
    "print (b )\n",
    "print ('\\n')  \n",
    "\n",
    "print ('Add the two arrays:' )\n",
    "print (np.add(a,b) )\n",
    "print ('\\n')  \n",
    "\n",
    "print ('Subtract the two arrays:' )\n",
    "print (np.subtract(a,b) )\n",
    "print ('\\n'  )\n",
    "\n",
    "print ('Multiply the two arrays:' )\n",
    "print (np.multiply(a,b) )\n",
    "print ('\\n'  )\n",
    "\n",
    "print ('Divide the two arrays:' )\n",
    "print (np.divide(a,b))"
   ]
  },
  {
   "cell_type": "markdown",
   "id": "f5b4f468",
   "metadata": {},
   "source": [
    "#### 9) Write a program to explain matrix manipulation using ndarrays."
   ]
  },
  {
   "cell_type": "code",
   "execution_count": 15,
   "id": "4b4501b7",
   "metadata": {},
   "outputs": [
    {
     "name": "stdout",
     "output_type": "stream",
     "text": [
      "The element wise addition of matrix is : \n",
      "[[16 21]\n",
      " [31 26]]\n",
      "The element wise subtraction of matrix is : \n",
      "[[6 3]\n",
      " [9 2]]\n",
      "The element wise division of matrix is : \n",
      "[[2.2        1.33333333]\n",
      " [1.81818182 1.16666667]]\n",
      "The element wise multiplication of matrix is : \n",
      "[[ 55 108]\n",
      " [220 168]]\n",
      "The product of matrices is : \n",
      "[[187 243]\n",
      " [254 348]]\n",
      "The element wise square root is : \n",
      "[[3.31662479 3.46410162]\n",
      " [4.47213595 3.74165739]]\n",
      "The summation of all matrix element is : \n",
      "37\n",
      "The column wise summation of all matrix  is : \n",
      "[16 21]\n",
      "The row wise summation of all matrix  is : \n",
      "[14 23]\n",
      "The transpose of given matrix is : \n",
      "[[11 20]\n",
      " [12 14]]\n"
     ]
    }
   ],
   "source": [
    "x = np.array([[11, 12], [20, 14]])\n",
    "y = np.array([[5, 9], [11, 12]])\n",
    "  \n",
    "# using add() to add matrices\n",
    "print (\"The element wise addition of matrix is : \")\n",
    "print (np.add(x,y))\n",
    "  \n",
    "# using subtract() to subtract matrices\n",
    "print (\"The element wise subtraction of matrix is : \")\n",
    "print (np.subtract(x,y))\n",
    "  \n",
    "# using divide() to divide matrices\n",
    "print (\"The element wise division of matrix is : \")\n",
    "print (np.divide(x,y))\n",
    "\n",
    "# using multiply() to multiply matrices element wise\n",
    "print (\"The element wise multiplication of matrix is : \")\n",
    "print (np.multiply(x,y))\n",
    "  \n",
    "# using dot() to multiply matrices\n",
    "print (\"The product of matrices is : \")\n",
    "print (np.dot(x,y))\n",
    "\n",
    "# using sqrt() to print the square root of matrix\n",
    "print (\"The element wise square root is : \")\n",
    "print (np.sqrt(x))\n",
    "  \n",
    "# using sum() to print summation of all elements of matrix\n",
    "print (\"The summation of all matrix element is : \")\n",
    "print (np.sum(y))\n",
    "  \n",
    "# using sum(axis=0) to print summation of all columns of matrix\n",
    "print (\"The column wise summation of all matrix  is : \")\n",
    "print (np.sum(y,axis=0))\n",
    "  \n",
    "# using sum(axis=1) to print summation of all columns of matrix\n",
    "print (\"The row wise summation of all matrix  is : \")\n",
    "print (np.sum(y,axis=1))\n",
    "  \n",
    "# using \"T\" to transpose the matrix\n",
    "print (\"The transpose of given matrix is : \")\n",
    "print (x.T)\n"
   ]
  },
  {
   "cell_type": "markdown",
   "id": "ccf7583f",
   "metadata": {},
   "source": [
    "#### 10) Assume That You have this Array [ [ 5 , 10 , 15 ] , [ 20 , 12 , 28 ]] , Now At output give Only that Value which is Greater Than 12 ."
   ]
  },
  {
   "cell_type": "code",
   "execution_count": 16,
   "id": "fd574640",
   "metadata": {},
   "outputs": [
    {
     "name": "stdout",
     "output_type": "stream",
     "text": [
      "[[ 5 10 15]\n",
      " [20 12 28]]\n"
     ]
    },
    {
     "data": {
      "text/plain": [
       "array([15, 20, 28])"
      ]
     },
     "execution_count": 16,
     "metadata": {},
     "output_type": "execute_result"
    }
   ],
   "source": [
    "x =np.array([[5 , 10 , 15 ] ,[20,12,28]])\n",
    "print(x)\n",
    "x[x>12]"
   ]
  },
  {
   "cell_type": "markdown",
   "id": "0f2b6fe0",
   "metadata": {},
   "source": [
    "#### 11) Generate the Normally distributed data using the numpy function.\n",
    "\n",
    "\n",
    "\n",
    "\n",
    "\n"
   ]
  },
  {
   "cell_type": "code",
   "execution_count": null,
   "id": "ef8df7a2",
   "metadata": {},
   "outputs": [],
   "source": []
  },
  {
   "cell_type": "markdown",
   "id": "b9e9f872",
   "metadata": {},
   "source": [
    "#### 12) W.A.P to get the largest elements of the given array using numpy ."
   ]
  },
  {
   "cell_type": "code",
   "execution_count": 17,
   "id": "01ec0d06",
   "metadata": {},
   "outputs": [
    {
     "name": "stdout",
     "output_type": "stream",
     "text": [
      "Largest in given array is 980\n"
     ]
    }
   ],
   "source": [
    "def largest(arr,n):\n",
    "    return (max(arr))\n",
    "arr = [25, 424, 545, 190, 980]\n",
    "n = len(arr)\n",
    "Ans = largest(arr,n)\n",
    "print (\"Largest in given array is\",Ans)"
   ]
  },
  {
   "cell_type": "markdown",
   "id": "e1787b16",
   "metadata": {},
   "source": [
    "#### 13) Write the Code to find the mean across the dimension Of the below matrix.[[ 10 , 20 ,30 ] , [ 11 ,22 ,33] , [111,222,333]]"
   ]
  },
  {
   "cell_type": "code",
   "execution_count": null,
   "id": "2d73ec3f",
   "metadata": {},
   "outputs": [],
   "source": [
    "\n",
    "=>\n",
    "x = np.array([[ 10 , 20 ,30 ] , [ 11 ,22 ,33] , [111,222,333]])\n",
    "print(\"Original array:\")\n",
    "print(x)\n",
    "print(\"Mean of each column:\")\n",
    "print(x.mean(axis=0))\n",
    "print(\"Mean of each row:\")\n",
    "print(x.mean(axis=1))\n"
   ]
  },
  {
   "cell_type": "markdown",
   "id": "6b996b11",
   "metadata": {},
   "source": [
    "#### 14) Replace all the value less than 5 with 5 in given array . [ 8, 7, -5, 6, 0, 3, 2, 90 ,10 ]"
   ]
  },
  {
   "cell_type": "code",
   "execution_count": null,
   "id": "4f910091",
   "metadata": {},
   "outputs": [],
   "source": [
    "array = np.array([ 8, 7, -5, 6, 0, 3, 2, 90 ,10 ])\n",
    "\n",
    "array[array < 5] = 5\n",
    "print(array)"
   ]
  },
  {
   "cell_type": "markdown",
   "id": "e812ac1e",
   "metadata": {},
   "source": [
    "#### 15) Check Whether [2,5,6] is present in [22,55,2,66,5,6]"
   ]
  },
  {
   "cell_type": "code",
   "execution_count": null,
   "id": "79c380f4",
   "metadata": {},
   "outputs": [],
   "source": [
    "arr1 = [22,55,2,66,5,6]\n",
    "arr2 = [2,5,6]\n",
    "m = len(arr1) \n",
    "n = len(arr2) \n",
    "s = set()\n",
    "for i in range(m) :\n",
    "    s.add(arr1[i])\n",
    "    \n",
    "p = len(s)\n",
    "for i in range(n) :\n",
    "    s.add(arr2[i])\n",
    "if (len(s) == p) :\n",
    "    print(\"arr2[] is subset of arr1[] \")\n",
    "else :\n",
    "    print(\"arr2[] is not subset of arr1[] \")\n"
   ]
  },
  {
   "cell_type": "code",
   "execution_count": null,
   "id": "b0802428",
   "metadata": {},
   "outputs": [],
   "source": []
  }
 ],
 "metadata": {
  "kernelspec": {
   "display_name": "Python 3 (ipykernel)",
   "language": "python",
   "name": "python3"
  },
  "language_info": {
   "codemirror_mode": {
    "name": "ipython",
    "version": 3
   },
   "file_extension": ".py",
   "mimetype": "text/x-python",
   "name": "python",
   "nbconvert_exporter": "python",
   "pygments_lexer": "ipython3",
   "version": "3.9.12"
  }
 },
 "nbformat": 4,
 "nbformat_minor": 5
}
